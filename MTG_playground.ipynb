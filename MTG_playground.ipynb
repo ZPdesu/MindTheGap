{
 "cells": [
  {
   "cell_type": "markdown",
   "id": "83298b30",
   "metadata": {},
   "source": [
    "# Mind The Gap: Domain Gap Contol For Single Shot Domain Adaptation For Generative Adversarial Networks\n"
   ]
  },
  {
   "cell_type": "code",
   "execution_count": 10,
   "id": "81bc762c",
   "metadata": {},
   "outputs": [],
   "source": [
    "#@title Setup. This will take a few minutes.\n",
    "import torch\n",
    "torch.backends.cudnn.benchmark = True\n",
    "\n",
    "# from google.colab import files\n",
    "from copy import deepcopy\n",
    "from pydrive.auth import GoogleAuth\n",
    "from pydrive.drive import GoogleDrive\n",
    "# from google.colab import auth\n",
    "from oauth2client.client import GoogleCredentials\n"
   ]
  },
  {
   "cell_type": "code",
   "execution_count": 12,
   "id": "f086860e",
   "metadata": {},
   "outputs": [
    {
     "ename": "ApplicationDefaultCredentialsError",
     "evalue": "The Application Default Credentials are not available. They are available if running in Google Compute Engine. Otherwise, the environment variable GOOGLE_APPLICATION_CREDENTIALS must be defined pointing to a file defining the credentials. See https://developers.google.com/accounts/docs/application-default-credentials for more information.",
     "output_type": "error",
     "traceback": [
      "\u001b[0;31m---------------------------------------------------------------------------\u001b[0m",
      "\u001b[0;31mApplicationDefaultCredentialsError\u001b[0m        Traceback (most recent call last)",
      "\u001b[0;32m/tmp/ipykernel_43605/2823914205.py\u001b[0m in \u001b[0;36m<module>\u001b[0;34m\u001b[0m\n\u001b[1;32m     55\u001b[0m \u001b[0;34m\u001b[0m\u001b[0m\n\u001b[1;32m     56\u001b[0m \u001b[0;34m\u001b[0m\u001b[0m\n\u001b[0;32m---> 57\u001b[0;31m \u001b[0mdownloader\u001b[0m \u001b[0;34m=\u001b[0m \u001b[0mDownloader\u001b[0m\u001b[0;34m(\u001b[0m\u001b[0mdownload_with_pydrive\u001b[0m\u001b[0;34m)\u001b[0m\u001b[0;34m\u001b[0m\u001b[0;34m\u001b[0m\u001b[0m\n\u001b[0m\u001b[1;32m     58\u001b[0m \u001b[0;34m\u001b[0m\u001b[0m\n\u001b[1;32m     59\u001b[0m \u001b[0mdownloader\u001b[0m\u001b[0;34m.\u001b[0m\u001b[0mdownload_file\u001b[0m\u001b[0;34m(\u001b[0m\u001b[0;34m'ffhq.pt'\u001b[0m\u001b[0;34m)\u001b[0m\u001b[0;34m\u001b[0m\u001b[0;34m\u001b[0m\u001b[0m\n",
      "\u001b[0;32m/tmp/ipykernel_43605/2823914205.py\u001b[0m in \u001b[0;36m__init__\u001b[0;34m(self, use_pydrive)\u001b[0m\n\u001b[1;32m     33\u001b[0m \u001b[0;34m\u001b[0m\u001b[0m\n\u001b[1;32m     34\u001b[0m         \u001b[0;32mif\u001b[0m \u001b[0mself\u001b[0m\u001b[0;34m.\u001b[0m\u001b[0muse_pydrive\u001b[0m\u001b[0;34m:\u001b[0m\u001b[0;34m\u001b[0m\u001b[0;34m\u001b[0m\u001b[0m\n\u001b[0;32m---> 35\u001b[0;31m             \u001b[0mself\u001b[0m\u001b[0;34m.\u001b[0m\u001b[0mauthenticate\u001b[0m\u001b[0;34m(\u001b[0m\u001b[0;34m)\u001b[0m\u001b[0;34m\u001b[0m\u001b[0;34m\u001b[0m\u001b[0m\n\u001b[0m\u001b[1;32m     36\u001b[0m \u001b[0;34m\u001b[0m\u001b[0m\n\u001b[1;32m     37\u001b[0m     \u001b[0;32mdef\u001b[0m \u001b[0mauthenticate\u001b[0m\u001b[0;34m(\u001b[0m\u001b[0mself\u001b[0m\u001b[0;34m)\u001b[0m\u001b[0;34m:\u001b[0m\u001b[0;34m\u001b[0m\u001b[0;34m\u001b[0m\u001b[0m\n",
      "\u001b[0;32m/tmp/ipykernel_43605/2823914205.py\u001b[0m in \u001b[0;36mauthenticate\u001b[0;34m(self)\u001b[0m\n\u001b[1;32m     38\u001b[0m \u001b[0;31m#         auth.authenticate_user()\u001b[0m\u001b[0;34m\u001b[0m\u001b[0;34m\u001b[0m\u001b[0;34m\u001b[0m\u001b[0m\n\u001b[1;32m     39\u001b[0m         \u001b[0mgauth\u001b[0m \u001b[0;34m=\u001b[0m \u001b[0mGoogleAuth\u001b[0m\u001b[0;34m(\u001b[0m\u001b[0;34m)\u001b[0m\u001b[0;34m\u001b[0m\u001b[0;34m\u001b[0m\u001b[0m\n\u001b[0;32m---> 40\u001b[0;31m         \u001b[0mgauth\u001b[0m\u001b[0;34m.\u001b[0m\u001b[0mcredentials\u001b[0m \u001b[0;34m=\u001b[0m \u001b[0mGoogleCredentials\u001b[0m\u001b[0;34m.\u001b[0m\u001b[0mget_application_default\u001b[0m\u001b[0;34m(\u001b[0m\u001b[0;34m)\u001b[0m\u001b[0;34m\u001b[0m\u001b[0;34m\u001b[0m\u001b[0m\n\u001b[0m\u001b[1;32m     41\u001b[0m         \u001b[0mself\u001b[0m\u001b[0;34m.\u001b[0m\u001b[0mdrive\u001b[0m \u001b[0;34m=\u001b[0m \u001b[0mGoogleDrive\u001b[0m\u001b[0;34m(\u001b[0m\u001b[0mgauth\u001b[0m\u001b[0;34m)\u001b[0m\u001b[0;34m\u001b[0m\u001b[0;34m\u001b[0m\u001b[0m\n\u001b[1;32m     42\u001b[0m \u001b[0;34m\u001b[0m\u001b[0m\n",
      "\u001b[0;32m~/.conda/envs/RTX/lib/python3.7/site-packages/oauth2client/client.py\u001b[0m in \u001b[0;36mget_application_default\u001b[0;34m()\u001b[0m\n\u001b[1;32m   1269\u001b[0m                                                 \u001b[0mfail\u001b[0m \u001b[0mto\u001b[0m \u001b[0mbe\u001b[0m \u001b[0mretrieved\u001b[0m\u001b[0;34m.\u001b[0m\u001b[0;34m\u001b[0m\u001b[0;34m\u001b[0m\u001b[0m\n\u001b[1;32m   1270\u001b[0m         \"\"\"\n\u001b[0;32m-> 1271\u001b[0;31m         \u001b[0;32mreturn\u001b[0m \u001b[0mGoogleCredentials\u001b[0m\u001b[0;34m.\u001b[0m\u001b[0m_get_implicit_credentials\u001b[0m\u001b[0;34m(\u001b[0m\u001b[0;34m)\u001b[0m\u001b[0;34m\u001b[0m\u001b[0;34m\u001b[0m\u001b[0m\n\u001b[0m\u001b[1;32m   1272\u001b[0m \u001b[0;34m\u001b[0m\u001b[0m\n\u001b[1;32m   1273\u001b[0m     \u001b[0;34m@\u001b[0m\u001b[0mstaticmethod\u001b[0m\u001b[0;34m\u001b[0m\u001b[0;34m\u001b[0m\u001b[0m\n",
      "\u001b[0;32m~/.conda/envs/RTX/lib/python3.7/site-packages/oauth2client/client.py\u001b[0m in \u001b[0;36m_get_implicit_credentials\u001b[0;34m(cls)\u001b[0m\n\u001b[1;32m   1259\u001b[0m \u001b[0;34m\u001b[0m\u001b[0m\n\u001b[1;32m   1260\u001b[0m         \u001b[0;31m# If no credentials, fail.\u001b[0m\u001b[0;34m\u001b[0m\u001b[0;34m\u001b[0m\u001b[0;34m\u001b[0m\u001b[0m\n\u001b[0;32m-> 1261\u001b[0;31m         \u001b[0;32mraise\u001b[0m \u001b[0mApplicationDefaultCredentialsError\u001b[0m\u001b[0;34m(\u001b[0m\u001b[0mADC_HELP_MSG\u001b[0m\u001b[0;34m)\u001b[0m\u001b[0;34m\u001b[0m\u001b[0;34m\u001b[0m\u001b[0m\n\u001b[0m\u001b[1;32m   1262\u001b[0m \u001b[0;34m\u001b[0m\u001b[0m\n\u001b[1;32m   1263\u001b[0m     \u001b[0;34m@\u001b[0m\u001b[0mstaticmethod\u001b[0m\u001b[0;34m\u001b[0m\u001b[0;34m\u001b[0m\u001b[0m\n",
      "\u001b[0;31mApplicationDefaultCredentialsError\u001b[0m: The Application Default Credentials are not available. They are available if running in Google Compute Engine. Otherwise, the environment variable GOOGLE_APPLICATION_CREDENTIALS must be defined pointing to a file defining the credentials. See https://developers.google.com/accounts/docs/application-default-credentials for more information."
     ]
    }
   ],
   "source": [
    "#@title Download models\n",
    "#@markdown You may optionally enable downloads with pydrive in order to authenticate and avoid drive download limits.\n",
    "download_with_pydrive = True #@param {type:\"boolean\"}    \n",
    "device = 'cuda' #@param ['cuda', 'cpu']\n",
    "\n",
    "drive_ids = {\n",
    "    'e4e_ffhq_encode.pt': '1O8ipkyMYHwCRmuaZBaO-KYZ9FYuH8Xnc',\n",
    "    'ffhq.pt': '1H9-wdGHMu0E6H-QXOmRXLZVy_E_D0mf0',\n",
    "    'titan_erwin.pt': '1AvSrWkIxgoxXtjPuogKiP45BkKJvFQbI',\n",
    "    'titan_armin.pt': '1o9yhTmW8voeCi6dNrOY3sSVQqMawftRB',\n",
    "    'titan_historia.pt': '1MqMmdcCGXutoDV8wxP31K2iyvA4SgJx7',\n",
    "    'pocahontas.pt': '1jRcWh7lQ-28abiSOVBVUi_iBDGPj7Esl',\n",
    "    'moana.pt': '19kjijHa_G2B3UrNGHXYVe5izaNdi8ABr',\n",
    "    'doc_brown.pt': '1fQJYUE9a9DSoRupOxllslA-dIm-8-D72',\n",
    "    'brave.pt': '1wD3xoGgrmbN74npUAlrmkk97_DXF6NWR',\n",
    "    'sketch.pt': '1YbFyukh6n9l6UFtsqOESbhwGH7BupJtb',\n",
    "    'jojo.pt': '1VLLmh7f-vcS2MB3CXET1lFRC-_Sq-p8J',\n",
    "    'detroit.pt': '1cYSX9oLkhv6vosIAKnEQZoDFQS5siT-u',\n",
    "    'picasso.pt': '1C7pCKIFdqFFrK9diFZKGLXrYlmrPP2Ui',\n",
    "    'anastasia.pt': '1iXxaxKG0EJ_C1Jr5QrBogq9yvMzyhcth',\n",
    "    'room_girl.pt': '16F1oCrv8UNnhlqFFUwJy49OpW5d-kA-m',\n",
    "    'speed_paint.pt': '1uB2uQnAF8pghXNlTnGRTduiwpAtcDiqo',\n",
    "    'digital_painting_jing.pt': '168bfp7FvN_VF1pOT7uEYzhtj2oFGIsQ_',\n",
    "    'mermaid.pt': '1LO3UdMHPKfwjaaxgVgBbLquei8n8q5P8',\n",
    "    'zbrush_girl.pt': '1YPQSDW-_utOEu5A9nbq2832jTTJK2ECb',\n",
    "    'joker.pt': '1Ptv-EjYAKngxpf9lY5cpypAmyoX863Nh',\n",
    "}\n",
    "\n",
    "# from StyelGAN-NADA\n",
    "class Downloader(object):\n",
    "    def __init__(self, use_pydrive):\n",
    "        self.use_pydrive = use_pydrive\n",
    "\n",
    "        if self.use_pydrive:\n",
    "            self.authenticate()\n",
    "        \n",
    "    def authenticate(self):\n",
    "#         auth.authenticate_user()\n",
    "        gauth = GoogleAuth()\n",
    "        gauth.credentials = GoogleCredentials.get_application_default()\n",
    "        self.drive = GoogleDrive(gauth)\n",
    "    \n",
    "    def download_file(self, file_name):\n",
    "        file_dst = os.path.join('models', file_name)\n",
    "        file_id = drive_ids[file_name]\n",
    "        if not os.path.exists(file_dst):\n",
    "            print(f'Downloading {file_name}')\n",
    "            if self.use_pydrive:\n",
    "                downloaded = self.drive.CreateFile({'id':file_id})\n",
    "                downloaded.FetchMetadata(fetch_all=True)\n",
    "                downloaded.GetContentFile(file_dst)\n",
    "            else:\n",
    "                !gdown --id $file_id -O $file_dst\n",
    "\n",
    "\n",
    "\n",
    "downloader = Downloader(download_with_pydrive)\n",
    "\n",
    "downloader.download_file('ffhq.pt')\n",
    "downloader.download_file('e4e_ffhq_encode.pt')\n",
    "\n",
    "latent_dim = 512\n",
    "\n",
    "# Load original generator\n",
    "original_generator = Generator(1024, latent_dim, 8, 2).to(device)\n",
    "ckpt = torch.load('models/ffhq.pt', map_location=lambda storage, loc: storage)\n",
    "original_generator.load_state_dict(ckpt[\"g_ema\"])\n",
    "mean_latent = original_generator.mean_latent(10000)\n",
    "\n",
    "# to be finetuned generator\n",
    "generator = deepcopy(original_generator)\n",
    "\n",
    "\n",
    "transform = transforms.Compose(\n",
    "    [\n",
    "        transforms.Resize((1024, 1024)),\n",
    "        transforms.ToTensor(),\n",
    "        transforms.Normalize((0.5, 0.5, 0.5), (0.5, 0.5, 0.5)),\n",
    "    ]\n",
    ")"
   ]
  },
  {
   "cell_type": "code",
   "execution_count": null,
   "id": "370b323b",
   "metadata": {},
   "outputs": [],
   "source": []
  }
 ],
 "metadata": {
  "kernelspec": {
   "display_name": "Python 3 (ipykernel)",
   "language": "python",
   "name": "python3"
  },
  "language_info": {
   "codemirror_mode": {
    "name": "ipython",
    "version": 3
   },
   "file_extension": ".py",
   "mimetype": "text/x-python",
   "name": "python",
   "nbconvert_exporter": "python",
   "pygments_lexer": "ipython3",
   "version": "3.7.11"
  }
 },
 "nbformat": 4,
 "nbformat_minor": 5
}
